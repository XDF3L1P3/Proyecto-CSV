{
 "cells": [
  {
   "cell_type": "markdown",
   "metadata": {},
   "source": [
    "# Análisis de Música en Spotify\n",
    "\n",
    "En este proyecto, exploramos un conjunto de datos de Spotify para entender las características que definen diferentes tracks. A través de la visualización de datos y el Análisis Exploratorio de Datos (EDA), pudimos observar cómo varían diferentes características como la valencia, energía, danceability y acústica entre diferentes géneros y a lo largo del tiempo. Esto nos proporciona una visión clara de cómo las preferencias musicales y las tendencias han evolucionado, y cómo ciertos atributos musicales están asociados con la popularidad de una canción en Spotify.\n"
   ]
  },
  {
   "cell_type": "code",
   "execution_count": null,
   "metadata": {},
   "outputs": [],
   "source": [
    "import numpy as np\n",
    "import pandas as pd\n",
    "import matplotlib.pyplot as plt\n",
    "import plotly.express as px \n",
    "\n",
    "data = pd.read_csv(\"./data.csv\")\n",
    "year_data = pd.read_csv('./data_by_year.csv')\n",
    "genre_data = pd.read_csv('./data_by_genres.csv')\n",
    "print(data.info())"
   ]
  },
  {
   "cell_type": "markdown",
   "metadata": {},
   "source": [
    "Vamos a revisar todos los análisis con el objetivo en 'popularidad'. Antes de hacer eso, verifiquemos la correlación entre características considerando algunas de ellas y para eso, voy a utilizar la biblioteca seaborn.\n"
   ]
  },
  {
   "cell_type": "code",
   "execution_count": null,
   "metadata": {},
   "outputs": [],
   "source": [
    "import seaborn as sns\n",
    "\n",
    "# Lista de características\n",
    "feature_names = ['acousticness', 'danceability', 'energy', 'instrumentalness',\n",
    "       'liveness', 'loudness', 'speechiness', 'tempo', 'valence','duration_ms','explicit','key','mode','year']\n",
    "\n",
    "# Calcular la correlación de Pearson\n",
    "correlations = data[feature_names].apply(lambda x: x.corr(data['popularity']))\n",
    "\n",
    "# Visualizar las correlaciones en un gráfico de barras sin el argumento palette\n",
    "plt.figure(figsize=(10, 5))\n",
    "sns.barplot(x=correlations.index, y=correlations.values)\n",
    "plt.title(\"Feature Correlation with Popularity\")\n",
    "plt.ylabel(\"Pearson Correlation\")\n",
    "plt.xticks(rotation=45)\n",
    "plt.tight_layout()\n",
    "plt.show()"
   ]
  },
  {
   "cell_type": "markdown",
   "metadata": {},
   "source": [
    "# Entendimiento de los Datos a través de la Visualización y EDA\n",
    "\n",
    "## Agrupación por Décadas\n",
    "Para observar las tendencias de la música en intervalos más amplios y reducir la variabilidad anual, agrupamos los datos por décadas. Esto nos da una visión más generalizada de cómo ha evolucionado la música a lo largo del tiempo.\n"
   ]
  },
  {
   "cell_type": "code",
   "execution_count": null,
   "metadata": {},
   "outputs": [],
   "source": [
    "# Definir la función para obtener la década\n",
    "def get_decade(year):\n",
    "    period_start = int(year/10) * 10\n",
    "    decade = '{}s'.format(period_start)\n",
    "    return decade\n",
    "\n",
    "# Crear la columna 'decade'\n",
    "data['decade'] = data['year'].apply(get_decade)\n",
    "\n",
    "# Configurar el tamaño del gráfico y mostrar el conteo por década\n",
    "sns.set(rc={'figure.figsize':(11, 6)})\n",
    "sns.countplot(x=data['decade'])\n",
    "plt.title(\"Count of Songs per Decade\")\n",
    "plt.ylabel(\"Count\")\n",
    "plt.xlabel(\"Decade\")\n",
    "plt.show()\n"
   ]
  },
  {
   "cell_type": "markdown",
   "metadata": {},
   "source": [
    "# Análisis Año por Año\n",
    "Para un análisis más detallado y entender cómo cada característica de sonido ha evolucionado anualmente, realizamos un análisis año por año. Esto nos permite observar las fluctuaciones y tendencias anuales en las características del sonido."
   ]
  },
  {
   "cell_type": "code",
   "execution_count": null,
   "metadata": {},
   "outputs": [],
   "source": [
    "# Asumiendo que 'year_data' es tu DataFrame y 'year' es una columna en 'year_data'\n",
    "sound_features = ['acousticness', 'danceability', 'energy', 'instrumentalness', 'liveness', 'valence']\n",
    "\n",
    "plt.figure(figsize=(15, 5))\n",
    "\n",
    "for feature in sound_features:\n",
    "    plt.plot(year_data['year'], year_data[feature], label=feature)\n",
    "\n",
    "plt.legend()\n",
    "plt.xlabel('Year')\n",
    "plt.ylabel('Value')\n",
    "plt.title('Sound Features Over Time')\n",
    "plt.show()"
   ]
  },
  {
   "cell_type": "markdown",
   "metadata": {},
   "source": [
    "# Características de Diferentes Géneros\n",
    "Este conjunto de datos contiene las características de audio para diferentes canciones junto con las características de audio para diferentes géneros. Podemos utilizar esta información para comparar diferentes géneros y entender sus diferencias únicas en sonido."
   ]
  },
  {
   "cell_type": "code",
   "execution_count": null,
   "metadata": {},
   "outputs": [],
   "source": [
    "top10_genres = genre_data.nlargest(10, 'popularity')\n",
    "\n",
    "x = np.arange(len(top10_genres['genres']))  # la etiqueta de ubicaciones\n",
    "width = 0.2  # el ancho de las barras\n",
    "\n",
    "fig, ax = plt.subplots(figsize=(10, 6))\n",
    "rects1 = ax.bar(x - 3*width/2, top10_genres['valence'], width, label='Valence')\n",
    "rects2 = ax.bar(x - width/2, top10_genres['energy'], width, label='Energy')\n",
    "rects3 = ax.bar(x + width/2, top10_genres['danceability'], width, label='Danceability')\n",
    "rects4 = ax.bar(x + 3*width/2, top10_genres['acousticness'], width, label='Acousticness')\n",
    "\n",
    "# Añadir etiquetas, título y leyenda\n",
    "ax.set_xlabel('Genres')\n",
    "ax.set_ylabel('Value')\n",
    "ax.set_title('Values by genre and feature')\n",
    "ax.set_xticks(x)\n",
    "ax.set_xticklabels(top10_genres['genres'], rotation=45)\n",
    "ax.legend()\n",
    "\n",
    "fig.tight_layout()\n",
    "plt.show()"
   ]
  }
 ],
 "metadata": {
  "kernelspec": {
   "display_name": "Python 3",
   "language": "python",
   "name": "python3"
  },
  "language_info": {
   "codemirror_mode": {
    "name": "ipython",
    "version": 3
   },
   "file_extension": ".py",
   "mimetype": "text/x-python",
   "name": "python",
   "nbconvert_exporter": "python",
   "pygments_lexer": "ipython3",
   "version": "3.12.0"
  }
 },
 "nbformat": 4,
 "nbformat_minor": 2
}
